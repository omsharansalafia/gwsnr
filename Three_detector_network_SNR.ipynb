{
 "cells": [
  {
   "cell_type": "markdown",
   "metadata": {},
   "source": [
    "Here we want to estimate the fraction of events that are detected either by two or three detectors, considering design sensitivities and HLV network."
   ]
  },
  {
   "cell_type": "code",
   "execution_count": 1,
   "metadata": {},
   "outputs": [],
   "source": [
    "import numpy as np\n",
    "import matplotlib.pyplot as plt\n",
    "from scipy.integrate import cumtrapz\n",
    "from Network_SNR import Network_SNR\n",
    "from Network_SNR import HLV_zerodethighP"
   ]
  },
  {
   "cell_type": "code",
   "execution_count": 2,
   "metadata": {},
   "outputs": [],
   "source": [
    "# construct popoulation of binaries\n",
    "Nbinaries = 3000\n",
    "dLmax = 400. #Mpc\n",
    "\n",
    "Mc = np.ones(Nbinaries)*1.2 #BNS\n",
    "\n",
    "# dL: uniform in Euclidean space\n",
    "dL0 = np.linspace(0.,dLmax,1000)\n",
    "pdL = dL0**2\n",
    "cdL = cumtrapz(pdL,dL0,initial=0.)\n",
    "cdL/=cdL[-1]\n",
    "dL = np.interp(np.random.uniform(0.,1.,Nbinaries),cdL,dL0)\n",
    "\n",
    "# zero redshift\n",
    "z = np.zeros(Nbinaries)\n",
    "\n",
    "# isotropic inclinations\n",
    "iota0 = np.linspace(0.,np.pi/2.,1000)\n",
    "piota = np.sin(iota0)\n",
    "ciota = cumtrapz(piota,iota0,initial=0.)\n",
    "ciota/=ciota[-1]\n",
    "iota = np.interp(np.random.uniform(0.,1.,Nbinaries),ciota,iota0)\n",
    "\n",
    "# uniformly distributed polarization angles\n",
    "psi0 = np.linspace(0.,np.pi,1000)\n",
    "ppsi = np.ones(len(psi0))\n",
    "cpsi = cumtrapz(ppsi,psi0,initial=0.)\n",
    "cpsi/=cpsi[-1]\n",
    "psi = np.interp(np.random.uniform(0.,1.,Nbinaries),cpsi,psi0)\n",
    "\n",
    "# isotropic sky positions\n",
    "th0 = np.linspace(0.,np.pi,1000)\n",
    "pth = np.sin(th0)\n",
    "cth = cumtrapz(pth,th0,initial=0.)\n",
    "cth/=cth[-1]\n",
    "th = np.interp(np.random.uniform(0.,1.,Nbinaries),cth,th0)\n",
    "\n",
    "phi0 = np.linspace(0.,2*np.pi,1000)\n",
    "pphi = np.ones(len(phi0))\n",
    "cphi = cumtrapz(pphi,phi0,initial=0.)\n",
    "cphi/=cphi[-1]\n",
    "phi = np.interp(np.random.uniform(0.,1.,Nbinaries),cphi,phi0)\n",
    "\n",
    "RAdeg = phi/np.pi*180\n",
    "DECdeg = (np.pi/2-th)/np.pi*180"
   ]
  },
  {
   "cell_type": "code",
   "execution_count": 3,
   "metadata": {},
   "outputs": [],
   "source": [
    "# compute SNRs in three-detector network (all three detectors are assumed to have the zerodethighP \n",
    "# PSD (the model design sensitivity for LIGO), thus they have each a 200 Mpc range. We will rescale \n",
    "# the Virgo SNR afterwards. It would be more accurate if we gave Virgo its own anticipated design\n",
    "# sensitivity curve.)\n",
    "\n",
    "SNRs = np.empty([Nbinaries,3]) # shape: (Nbinaries,Ndetectors)\n",
    "\n",
    "# compute the network SNR for each binary (all happen at gmst=0. - this shouldn't change anything, since the\n",
    "# population is isotropic)\n",
    "for i in range(Nbinaries):\n",
    "    SNRs[i] = Network_SNR(HLV_zerodethighP, Mc[i], dL[i], z[i], iota[i], psi[i], RAdeg[i], DECdeg[i], 0.)[1]"
   ]
  },
  {
   "cell_type": "code",
   "execution_count": 4,
   "metadata": {},
   "outputs": [],
   "source": [
    "# define the Virgo range\n",
    "Virgo_range = 120. # Mpc\n",
    "\n",
    "# rescale the Virgo SNR to account for its lower range\n",
    "SNRs[:,2]*=Virgo_range/200."
   ]
  },
  {
   "cell_type": "code",
   "execution_count": 15,
   "metadata": {},
   "outputs": [
    {
     "data": {
      "text/plain": [
       "<matplotlib.legend.Legend at 0x7fcf8b380f60>"
      ]
     },
     "execution_count": 15,
     "metadata": {},
     "output_type": "execute_result"
    },
    {
     "data": {
      "image/png": "[encoded data removed]",
      "text/plain": [
       "<Figure size 432x288 with 1 Axes>"
      ]
     },
     "metadata": {},
     "output_type": "display_data"
    }
   ],
   "source": [
    "# compute the network SNR as (SNR_H^2 + SNR_L^2 + SNR_V^2)^(1/2)\n",
    "SNR_net = np.sort((SNRs[:,0]**2 + SNRs[:,1]**2 + SNRs[:,2]**2)**0.5)\n",
    "\n",
    "# plot the distributions of SNRs for detected binaries\n",
    "\n",
    "## a network detection is assumed to correspond to SNR_net>12\n",
    "det_network=(SNR_net>12.)\n",
    "SNR_H = np.sort(SNRs[:,0])\n",
    "SNR_L = np.sort(SNRs[:,1])\n",
    "SNR_V = np.sort(SNRs[:,2])\n",
    "\n",
    "# Schutz 2011 universal SNR distribution for detected inspirals, assuming SNR_limit = 8\n",
    "SNRs2011 = np.linspace(8.,60.,100)\n",
    "cs2011 = 1.-(SNRs2011/8.)**-3\n",
    "cs2011[cs2011<0.]=0.\n",
    "c = np.arange(len(SNR_net[det_network]))/len(SNR_net[det_network])\n",
    "\n",
    "plt.plot(SNR_net[det_network],c,'-k',label='Net')\n",
    "plt.plot(SNR_H[det_network],c,'-.r',label='H1')\n",
    "plt.plot(SNR_L[det_network],c,'--b',label='L1')\n",
    "plt.plot(SNR_V[det_network],c,'-g',label='V')\n",
    "plt.plot(SNRs2011,cs2011,':k',label='Schutz+11')\n",
    "plt.xscale('log')\n",
    "plt.xlabel('SNR')\n",
    "plt.ylabel('cumulative fraction')\n",
    "plt.legend()\n"
   ]
  },
  {
   "cell_type": "code",
   "execution_count": 18,
   "metadata": {},
   "outputs": [
    {
     "name": "stdout",
     "output_type": "stream",
     "text": [
      "Network: 0.119\n",
      "H1: 0.111\n",
      "L1: 0.118\n",
      "V: 0.0209\n"
     ]
    }
   ],
   "source": [
    "# print the fraction of detected inspirals within the simulated volume\n",
    "c = np.arange(len(SNR_net))/len(SNR_net)\n",
    "print(\"Network: {0:.3g}\".format(1.-np.interp(12.,SNR_net,c)))\n",
    "print(\"H1: {0:.3g}\".format(1.-np.interp(8.,SNR_H,c)))\n",
    "print(\"L1: {0:.3g}\".format(1.-np.interp(8.,SNR_L,c)))\n",
    "print(\"V: {0:.3g}\".format(1.-np.interp(8.,SNR_V,c)))"
   ]
  },
  {
   "cell_type": "code",
   "execution_count": 100,
   "metadata": {},
   "outputs": [
    {
     "name": "stdout",
     "output_type": "stream",
     "text": [
      "0.159 0.084\n"
     ]
    }
   ],
   "source": [
    "# count 3-det and 2-det detections\n",
    "\n",
    "det_single = (SNRs>4.)\n",
    "det_network = (SNR_net>12.)\n",
    "\n",
    "Ndet = np.sum(det_single,axis=1)\n",
    "\n",
    "N3det = len(Ndet[(Ndet==3.) & det_network])\n",
    "N2det = len(Ndet[(Ndet==2.) & det_network])\n",
    "\n",
    "print(N3det/Nbinaries,N2det/Nbinaries)"
   ]
  },
  {
   "cell_type": "code",
   "execution_count": null,
   "metadata": {},
   "outputs": [],
   "source": []
  },
  {
   "cell_type": "code",
   "execution_count": null,
   "metadata": {},
   "outputs": [],
   "source": []
  }
 ],
 "metadata": {
  "kernelspec": {
   "display_name": "Python 3",
   "language": "python",
   "name": "python3"
  },
  "language_info": {
   "codemirror_mode": {
    "name": "ipython",
    "version": 3
   },
   "file_extension": ".py",
   "mimetype": "text/x-python",
   "name": "python",
   "nbconvert_exporter": "python",
   "pygments_lexer": "ipython3",
   "version": "3.6.5"
  }
 },
 "nbformat": 4,
 "nbformat_minor": 2
}
